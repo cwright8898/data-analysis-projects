{
 "cells": [
  {
   "cell_type": "markdown",
   "metadata": {},
   "source": [
    "# SQL Part 1 Studio\n",
    "\n",
    "Let's practice your SQL querying skills!  For each question, work along in the notebook adding your query and answering the questions.\n",
    "\n",
    "## Dataset\n",
    "\n",
    "We will be using the same Goodreads dataset that was used for the exercises in the prep work. Feel free to reference your exercises notebook as you work on the studio. The Kaggle dataset can be found here: [goodbooks-10k](https://www.kaggle.com/zygmunt/goodbooks-10k).\n",
    "\n",
    "You can access **BooksDB** in the Launchcode server.\n",
    "\n",
    "## Business Issue\n",
    "\n",
    "You work for a small independent book store and you want to increase sales by running a new marketing campaign. Before you can design your campaign, you need to get more familiar with what is going on with the world of book publishing. Time to get more familar with BooksDB!"
   ]
  },
  {
   "cell_type": "markdown",
   "metadata": {},
   "source": [
    "## Part 1: BooksDB Questions\n",
    "\n",
    "Question 1: Write a query of the `books` table that returns the top 100 results and includes `book_id`, `authors`, `title`, and `average_rating`. Use an alias for at least one column and sort the result set in descending order of rating. What is the number one book? The Complete Calvin and Hobbes"
   ]
  },
  {
   "cell_type": "code",
   "execution_count": null,
   "metadata": {
    "vscode": {
     "languageId": "sql"
    }
   },
   "outputs": [],
   "source": [
    "-- return top 100 results \n",
    "USE BooksDB\n",
    "SELECT top 100 book_id, authors, title, average_rating AS 'Book Rating' \n",
    "from books\n",
    "ORDER BY [average_rating] DESC;"
   ]
  },
  {
   "cell_type": "markdown",
   "metadata": {},
   "source": [
    "Question 2: Write a query to find the least popular book. One Night at the Call Center"
   ]
  },
  {
   "cell_type": "code",
   "execution_count": null,
   "metadata": {
    "vscode": {
     "languageId": "sql"
    }
   },
   "outputs": [],
   "source": [
    "-- return least popular book\n",
    "USE BooksDB\n",
    "SELECT book_id, authors, title, average_rating AS 'Book Rating' \n",
    "from books\n",
    "ORDER BY [average_rating] ASC;\n"
   ]
  },
  {
   "cell_type": "markdown",
   "metadata": {},
   "source": [
    "Question 3: Which tag is the most popular?"
   ]
  },
  {
   "cell_type": "code",
   "execution_count": null,
   "metadata": {
    "vscode": {
     "languageId": "sql"
    }
   },
   "outputs": [],
   "source": [
    "-- return most popular tag\n",
    "SELECT tag_id, count\n",
    "FROM BooksDB.dbo.book_tags\n",
    "ORDER BY count DESC;"
   ]
  },
  {
   "cell_type": "markdown",
   "metadata": {},
   "source": [
    "Question 4: What is the name of the most popular tag?"
   ]
  },
  {
   "cell_type": "code",
   "execution_count": null,
   "metadata": {
    "vscode": {
     "languageId": "sql"
    }
   },
   "outputs": [],
   "source": [
    "-- return name of most popular tag\n",
    "SELECT tag_name\n",
    "FROM BooksDB.dbo.tags\n",
    "where tag_id = 30574"
   ]
  },
  {
   "cell_type": "markdown",
   "metadata": {},
   "source": [
    "Question 5: How many books where released in the first decade of 2000?"
   ]
  },
  {
   "cell_type": "code",
   "execution_count": null,
   "metadata": {
    "vscode": {
     "languageId": "sql"
    }
   },
   "outputs": [],
   "source": [
    "-- return number of books published in the first decade of 2000\n",
    "USE BooksDB \n",
    "SELECT COUNT(original_publication_year) \n",
    "FROM dbo.books WHERE original_publication_year \n",
    "BETWEEN 2000 and 2009"
   ]
  },
  {
   "cell_type": "markdown",
   "metadata": {},
   "source": [
    "Question 6: How many book titles contain the word, \"happy\"?"
   ]
  },
  {
   "cell_type": "code",
   "execution_count": null,
   "metadata": {
    "vscode": {
     "languageId": "sql"
    }
   },
   "outputs": [],
   "source": [
    "-- return number of books that contain the word, \"happy\"\n",
    "USE BooksDB\n",
    "select COUNT(title)\n",
    "FROM dbo.books\n",
    "WHERE title LIKE '%happy%'"
   ]
  },
  {
   "cell_type": "markdown",
   "metadata": {},
   "source": [
    "Question 7: List the books from the top 3 authors from Question 1.  If there is more than one author just use the first one. Sort the title alphabetically by `author` and then by `average_rating`, best rated to lowest. Does this order matter in sorting?"
   ]
  },
  {
   "cell_type": "code",
   "execution_count": null,
   "metadata": {
    "vscode": {
     "languageId": "sql"
    }
   },
   "outputs": [],
   "source": [
    "-- return all books from the top 3 authors, sort by author and rating\n",
    "Select title, authors, average_rating\n",
    "from booksdb.dbo.books\n",
    "WHERE (AUTHORS = 'BILL WATERSON') or (authors = 'brandon sanderson') or (authors = 'j.k. rolling')"
   ]
  },
  {
   "cell_type": "markdown",
   "metadata": {},
   "source": [
    "Question 8: Write a query that returns the number of authors whose first name is between rock and roll."
   ]
  },
  {
   "cell_type": "code",
   "execution_count": null,
   "metadata": {
    "vscode": {
     "languageId": "sql"
    }
   },
   "outputs": [],
   "source": [
    "-- return number of authors whose first name is between rock and roll\n",
    "select count (authors)\n",
    "from booksdb.dbo.books\n",
    "where authors < 'roll' and authors >= 'rock';"
   ]
  },
  {
   "cell_type": "markdown",
   "metadata": {},
   "source": [
    "## Part 2: Find the Answers to Your Own Questions\n",
    "\n",
    "Your Question:  What book has the longest title? The Art Spirit: Notes, Articles, Fragments of Letters and Talks to Students, Bearing on the Concept and Technique of Picture Making, the Study of Art Generally, and on Appreciation (Icon Editions)"
   ]
  },
  {
   "cell_type": "code",
   "execution_count": null,
   "metadata": {
    "vscode": {
     "languageId": "sql"
    }
   },
   "outputs": [],
   "source": [
    "-- Add your query here\n",
    "SELECT original_title\n",
    "FROM dbo.books\n",
    "ORDER BY LEN(original_title) DESC;"
   ]
  },
  {
   "cell_type": "markdown",
   "metadata": {},
   "source": [
    "Your Question:  Which author has written the most books? Stephen King"
   ]
  },
  {
   "cell_type": "code",
   "execution_count": null,
   "metadata": {
    "vscode": {
     "languageId": "sql"
    }
   },
   "outputs": [],
   "source": [
    "-- Add your query here\n",
    "SELECT authors, COUNT(book_id) AS 'Written_books'\n",
    "FROM dbo.books\n",
    "GROUP BY authors\n",
    "ORDER BY Written_books desc;"
   ]
  },
  {
   "cell_type": "markdown",
   "metadata": {},
   "source": [
    "If you cannot think of a question you want to ask, here are some question examples to help jumpstart your brainstorming process:\n",
    "\n",
    "1. What book has the longest title?\n",
    "1. Which author has written the most books?\n",
    "1. What were the top ten books published the year I was born?"
   ]
  }
 ],
 "metadata": {
  "language_info": {
   "name": "python"
  }
 },
 "nbformat": 4,
 "nbformat_minor": 2
}
